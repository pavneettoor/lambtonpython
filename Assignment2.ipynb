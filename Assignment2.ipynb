{
  "nbformat": 4,
  "nbformat_minor": 0,
  "metadata": {
    "colab": {
      "provenance": []
    },
    "kernelspec": {
      "name": "python3",
      "display_name": "Python 3"
    },
    "language_info": {
      "name": "python"
    }
  },
  "cells": [
    {
      "cell_type": "markdown",
      "source": [],
      "metadata": {
        "id": "J6t0sxeo5MKb"
      }
    },
    {
      "cell_type": "markdown",
      "source": [
        "Question 1"
      ],
      "metadata": {
        "id": "QON1P7tB5RP7"
      }
    },
    {
      "cell_type": "code",
      "execution_count": 1,
      "metadata": {
        "id": "5gINl2mE41q7"
      },
      "outputs": [],
      "source": [
        "class vehicles:\n",
        "    def __init__(self, vehicleName, maxSpeed, milage):\n",
        "        self.vehicleName = vehicleName\n",
        "        self.maxSpeed = maxSpeed\n",
        "        self.milage = milage"
      ]
    },
    {
      "cell_type": "markdown",
      "source": [
        "Question 2"
      ],
      "metadata": {
        "id": "_MHSZPCv5c58"
      }
    },
    {
      "cell_type": "code",
      "source": [
        "class car(vehicles):\n",
        "    def sittingCapacity(self, capacity):\n",
        "        return f\"{self.vehicleName} has total capacity of {capacity} passengers.\""
      ],
      "metadata": {
        "id": "S2EC9xpU5Xvi"
      },
      "execution_count": 5,
      "outputs": []
    },
    {
      "cell_type": "markdown",
      "source": [
        "Question 3\n",
        "Multiple inheritence is a method in which one class can inherit the properties of other classes"
      ],
      "metadata": {
        "id": "R3KTL1Tf5nim"
      }
    },
    {
      "cell_type": "code",
      "source": [
        "class animal:\n",
        "    def run(self):\n",
        "        pass\n",
        "class bird:\n",
        "    def fly(self):\n",
        "        pass\n",
        "class tiger(animal, bird):\n",
        "    def run(self):\n",
        "        return \"parrot\"\n",
        "tiger = tiger()\n",
        "print(tiger.run())\n",
        "tiger.run()"
      ],
      "metadata": {
        "colab": {
          "base_uri": "https://localhost:8080/",
          "height": 53
        },
        "id": "LmRsFgPq5g5W",
        "outputId": "8ecaf969-afcd-44db-95cc-3f7933425a78"
      },
      "execution_count": 4,
      "outputs": [
        {
          "output_type": "stream",
          "name": "stdout",
          "text": [
            "parrot\n"
          ]
        },
        {
          "output_type": "execute_result",
          "data": {
            "text/plain": [
              "'parrot'"
            ],
            "application/vnd.google.colaboratory.intrinsic+json": {
              "type": "string"
            }
          },
          "metadata": {},
          "execution_count": 4
        }
      ]
    },
    {
      "cell_type": "markdown",
      "source": [
        "Question 4"
      ],
      "metadata": {
        "id": "6pucGLwM50nP"
      }
    },
    {
      "cell_type": "code",
      "source": [
        "class person:\n",
        "    def __init__(self, name, age, gender):\n",
        "        self.name = name\n",
        "        self.__age = age\n",
        "        self.gender = gender\n",
        "\n",
        "    def sayHello(self):\n",
        "        print(\"Hello, My Name is Pavneet\")\n",
        "\n",
        "    def isAdult(self):\n",
        "        return self.__age >= 18\n",
        "\n",
        "    def getAge(self):\n",
        "        return self.__age\n",
        "\n",
        "class student(person):\n",
        "    def __init__(self, studentId, course):\n",
        "        self.studentId = studentId\n",
        "        self.course = course\n",
        "\n",
        "    def getDetails(self):\n",
        "        print(self.studentId)\n",
        "        print(self.name)\n",
        "        print(self.age)\n",
        "        print(self.gender)\n",
        "        print(self.course)\n",
        "\n",
        "class teacher(person):\n",
        "    def __init__(self, teacherId, subject):\n",
        "        self.teacherId = teacherId\n",
        "        self.subject = subject\n",
        "\n",
        "    def teach(self):\n",
        "        print(self.name)\n",
        "        print(self.teacherId)\n",
        "        print(self.subject)\n"
      ],
      "metadata": {
        "id": "t1EpB6Po5uyU"
      },
      "execution_count": 2,
      "outputs": []
    }
  ]
}